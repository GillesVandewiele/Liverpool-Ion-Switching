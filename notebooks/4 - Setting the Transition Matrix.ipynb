{
 "cells": [
  {
   "cell_type": "markdown",
   "metadata": {},
   "source": [
    "# 4. Finding transition matrix (hidden states > open channels)\n",
    "\n",
    "In this notebook, we show how you could go about tuning a transition matrix."
   ]
  },
  {
   "cell_type": "code",
   "execution_count": 1,
   "metadata": {},
   "outputs": [
    {
     "name": "stdout",
     "output_type": "stream",
     "text": [
      "1100000 1100000\n"
     ]
    }
   ],
   "source": [
    "# We will use category 2 data again\n",
    "import numpy as np\n",
    "import pandas as pd\n",
    "\n",
    "%matplotlib inline\n",
    "import matplotlib.pyplot as plt\n",
    "import seaborn as sns\n",
    "\n",
    "train = pd.read_csv('../data/train_2.csv')\n",
    "test = pd.read_csv('../data/test_2.csv')\n",
    "\n",
    "BATCHES = np.array([0, 5, 10, 15, 20, 25, 30, 35, 40, 45, 50, 51, 52, 53, 54, 55, 56, 57, 58, 59, 60, 65, 70])\n",
    "CATEGORIES = np.array([1, 1, 2, 3, 5, 4, 2, 3, 4, 5, 6, 3, 4, 6, 2, 5, 4, 5, 6, 3, 6, 6])\n",
    "CATEGORY = 2\n",
    "\n",
    "signal = np.concatenate((train['signal'].values, test['signal'].values))\n",
    "\n",
    "ix = np.where(CATEGORIES == CATEGORY)[0]\n",
    "starts = BATCHES[ix]\n",
    "ends = BATCHES[ix + 1]\n",
    "\n",
    "X = []\n",
    "y = []\n",
    "for start, end in zip(starts, ends):\n",
    "    subsignal = signal[start*100_000:end*100_000]\n",
    "    if start < 50:\n",
    "        subchannels = train['open_channels'].values[start*100_000:end*100_000]\n",
    "    else:\n",
    "        subchannels = [-1]*((end-start)*100_000)\n",
    "        \n",
    "    if start == 35:\n",
    "        subsignal = list(subsignal[:100000]) + list(subsignal[-100000:])\n",
    "        subchannels = list(subchannels[:100000]) + list(subchannels[-100000:])\n",
    "    \n",
    "    X.extend(subsignal)\n",
    "    y.extend(subchannels)\n",
    "    \n",
    "X = np.array(X)\n",
    "y = np.array(y)\n",
    "print(len(X), len(y))"
   ]
  },
  {
   "cell_type": "code",
   "execution_count": 2,
   "metadata": {},
   "outputs": [
    {
     "data": {
      "image/png": "[encoded data removed]",
      "text/plain": [
       "<matplotlib.figure.Figure at 0x7f5d403cbda0>"
      ]
     },
     "metadata": {},
     "output_type": "display_data"
    }
   ],
   "source": [
    "# We can see \"blocks\" of open channels = 0 (where it does switches back and forth between 0 and 1)\n",
    "# and blocks of open_channels = 1 for a long period.\n",
    "plt.figure(figsize=(20, 3))\n",
    "plt.plot(y[y >= 0][:25000])\n",
    "plt.show()"
   ]
  },
  {
   "cell_type": "code",
   "execution_count": 3,
   "metadata": {},
   "outputs": [
    {
     "data": {
      "text/plain": [
       "(0.249199, 0.750801)"
      ]
     },
     "execution_count": 3,
     "metadata": {},
     "output_type": "execute_result"
    }
   ],
   "source": [
    "np.sum(y == 0)/np.sum(y >= 0), np.sum(y == 1)/np.sum(y >= 0)"
   ]
  },
  {
   "cell_type": "code",
   "execution_count": 4,
   "metadata": {},
   "outputs": [
    {
     "data": {
      "text/plain": [
       "array([[0.80778815, 0.19221185],\n",
       "       [0.0637972 , 0.9362028 ]])"
      ]
     },
     "execution_count": 4,
     "metadata": {},
     "output_type": "execute_result"
    }
   ],
   "source": [
    "def markov_p_trans(states):\n",
    "    # https://www.kaggle.com/friedchips/the-viterbi-algorithm-a-complete-solution\n",
    "    max_state = np.max(states)\n",
    "    states_next = np.roll(states, -1)\n",
    "    matrix = []\n",
    "    for i in range(max_state + 1):\n",
    "        current_row = np.histogram(states_next[states == i], bins=np.arange(max_state + 2))[0]\n",
    "        if np.sum(current_row) == 0: # if a state doesn't appear in states...\n",
    "            current_row = np.ones(max_state + 1) / (max_state + 1) # ...use uniform probability\n",
    "        else:\n",
    "            current_row = current_row / np.sum(current_row) # normalize to 1\n",
    "        matrix.append(current_row)\n",
    "    return np.array(matrix)\n",
    "\n",
    "# We will use the self-transition probabilities for the hidden states that\n",
    "# are not connected to another open_channel value and the other transition\n",
    "# probabilities for the states that are connected to other open_channel values\n",
    "markov_p_trans(y[y >= 0])"
   ]
  },
  {
   "cell_type": "code",
   "execution_count": 5,
   "metadata": {},
   "outputs": [
    {
     "name": "stderr",
     "output_type": "stream",
     "text": [
      "         1     -113547.4388             +nan\n",
      "         2      -96294.4678      +17252.9709\n",
      "         3      -76232.4059      +20062.0620\n",
      "         4      -64968.4441      +11263.9618\n",
      "         5      -58924.9086       +6043.5355\n",
      "         6      -56658.0773       +2266.8313\n",
      "         7      -55980.8000        +677.2773\n",
      "         8      -55789.7192        +191.0807\n",
      "         9      -55734.4260         +55.2932\n",
      "        10      -55717.5916         +16.8344\n",
      "        11      -55712.0951          +5.4965\n",
      "        12      -55710.0964          +1.9987\n",
      "        13      -55709.2417          +0.8547\n",
      "        14      -55708.7967          +0.4450\n",
      "        15      -55708.5205          +0.2762\n",
      "        16      -55708.3273          +0.1932\n",
      "        17      -55708.1827          +0.1446\n",
      "        18      -55708.0702          +0.1125\n",
      "        19      -55707.9807          +0.0894\n",
      "        20      -55707.9085          +0.0722\n",
      "        21      -55707.8495          +0.0590\n",
      "        22      -55707.8009          +0.0486\n",
      "        23      -55707.7604          +0.0405\n",
      "        24      -55707.7265          +0.0339\n",
      "        25      -55707.6978          +0.0286\n",
      "        26      -55707.6735          +0.0244\n",
      "        27      -55707.6526          +0.0208\n",
      "        28      -55707.6347          +0.0179\n",
      "        29      -55707.6192          +0.0155\n",
      "        30      -55707.6056          +0.0135\n",
      "        31      -55707.5938          +0.0119\n",
      "        32      -55707.5833          +0.0104\n",
      "        33      -55707.5741          +0.0092\n"
     ]
    }
   ],
   "source": [
    "from hmmlearn.hmm import GaussianHMM\n",
    "\n",
    "# We now create a very rudimentary transition matrix and optimize it with hmmlearn\n",
    "# Use EPS to make it possible for hmmlearn to introduce new transitions\n",
    "# Feel free to do some crazy stuff with this transition matrix, you will find out \n",
    "# that hmmlearn is pretty robust and most often will still converge to our final Ptran\n",
    "EPS = 1e-5\n",
    "# This Ptran below will change a lot after optimization with hmmlearn...\n",
    "Ptran = [\n",
    "    # open_channels=0, make link to 1 for faster switching\n",
    "    [0.8 - EPS , 0.19          , 0.01          , EPS           ],\n",
    "    # open_channels=0, bridge to open_channels=1\n",
    "    [EPS       , 0.81 - 2 * EPS, 0.19          , EPS           ],\n",
    "    # open_channels=1, bridge to open_channels=0\n",
    "    [EPS       , 0.06          , 0.94 - 2 * EPS, EPS           ],\n",
    "    # open_channels=1, safeguard to have consecutive block of open_channels=1\n",
    "    [EPS       , EPS           , 0.06          , 0.94 - 2 * EPS],\n",
    "]\n",
    "\n",
    "means = []\n",
    "covs = []\n",
    "for c in sorted(np.unique(y[y >= 0])):\n",
    "    means.append(np.mean(X[y == c]))\n",
    "    covs.append(np.cov(X[y == c]))\n",
    "    \n",
    "means = [means[0], means[0], means[1], means[1]]\n",
    "covs = [covs[0], covs[0], covs[1], covs[1]]\n",
    "    \n",
    "# Defining our HMM\n",
    "hmm = GaussianHMM(\n",
    "    n_components=4,                     # Number of hidden states\n",
    "    n_iter=50,                          # Total number of iterations\n",
    "    verbose=True,                       # Show logs\n",
    "    algorithm='map',                    # Use maximum a posteriori instead of Viterbi\n",
    "    params='stmc',                      # Optimize start probs, transmat, means, covs\n",
    "    random_state=42,\n",
    "    init_params='s',                    # Manually initialize all but start probabilities\n",
    "    covariance_type='full',             # Separate covariance per hidden state\n",
    "    tol=0.01                            # Convergence criterion\n",
    ")\n",
    "\n",
    "# Initialize the parameters of our HMM\n",
    "hmm.n_features = 1\n",
    "hmm.means_ = np.array(means).reshape(-1 ,1)\n",
    "hmm.covars_ = np.array(covs).reshape(-1, 1, 1)\n",
    "hmm.transmat_ = Ptran\n",
    "\n",
    "# Fit our HMM\n",
    "_ = hmm.fit(X.reshape(-1, 1), lengths=[100000]*(len(X) // 100000))"
   ]
  },
  {
   "cell_type": "code",
   "execution_count": 6,
   "metadata": {},
   "outputs": [],
   "source": [
    "np.set_printoptions(linewidth=200)\n",
    "Ptran_opt = hmm.transmat_"
   ]
  },
  {
   "cell_type": "code",
   "execution_count": 7,
   "metadata": {},
   "outputs": [
    {
     "name": "stdout",
     "output_type": "stream",
     "text": [
      "[[9.87847219e-01 1.21358191e-02 3.05958239e-07 1.66563644e-05]\n",
      " [4.09861162e-02 6.72181939e-01 2.83293460e-01 3.53848475e-03]\n",
      " [1.23487547e-03 2.51394819e-01 7.42725616e-01 4.64468969e-03]\n",
      " [5.66528645e-04 6.06743075e-07 2.35454665e-02 9.75887398e-01]]\n"
     ]
    }
   ],
   "source": [
    "# We use the Ptran_opt in a somewhat shuffled form (first the hidden states corresponding\n",
    "# to open_channels=1 and then those to open_channels=0)\n",
    "print(Ptran_opt[[3, 2, 1, 0], :][:, [3, 2, 1, 0]])"
   ]
  },
  {
   "cell_type": "code",
   "execution_count": 8,
   "metadata": {},
   "outputs": [],
   "source": [
    "# We adjusted this matrix slightly in order to optimize our train F1 score during the\n",
    "# competition. Our final Ptran for this category, displayed below, was very close:\n",
    "Ptran = [[0.9879, 0.0121, 0     , 0     ],\n",
    "         [0.0424, 0.6709, 0.2766, 0.0101],\n",
    "         [0     , 0.2588, 0.7412, 0     ],\n",
    "         [0     , 0.0239, 0     , 0.9761]]"
   ]
  },
  {
   "cell_type": "code",
   "execution_count": 9,
   "metadata": {},
   "outputs": [],
   "source": [
    "# The Ptran for categories 3, 4 and 5 is only slightly different from his one\n",
    "# and was again constructed iteratively (manual changes, hmmlearn, ...) while tuning\n",
    "# the macro F1 score."
   ]
  }
 ],
 "metadata": {
  "kernelspec": {
   "display_name": "Python 3",
   "language": "python",
   "name": "python3"
  },
  "language_info": {
   "codemirror_mode": {
    "name": "ipython",
    "version": 3
   },
   "file_extension": ".py",
   "mimetype": "text/x-python",
   "name": "python",
   "nbconvert_exporter": "python",
   "pygments_lexer": "ipython3",
   "version": "3.6.9"
  }
 },
 "nbformat": 4,
 "nbformat_minor": 2
}
