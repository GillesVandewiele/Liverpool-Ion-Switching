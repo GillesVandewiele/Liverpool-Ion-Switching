{
 "cells": [
  {
   "cell_type": "markdown",
   "metadata": {},
   "source": [
    "# 3. Naive HMM approach\n",
    "\n",
    "In this notebook, we will fit a HMM with the number of hidden states equal to the unique number of open channels in each batch. This is a naive approach, on which we will improve later on, but already improves upon the simple baseline of just rounding signal values.\n",
    "\n",
    "In this notebook, we shall only use category 2 (but you can swap it out for others)."
   ]
  },
  {
   "cell_type": "code",
   "execution_count": 1,
   "metadata": {},
   "outputs": [],
   "source": [
    "import numpy as np\n",
    "import pandas as pd\n",
    "\n",
    "%matplotlib inline\n",
    "import matplotlib.pyplot as plt\n",
    "import seaborn as sns\n",
    "\n",
    "from hmmlearn.hmm import GaussianHMM\n",
    "from sklearn.metrics import f1_score"
   ]
  },
  {
   "cell_type": "code",
   "execution_count": 2,
   "metadata": {},
   "outputs": [],
   "source": [
    "# Use the result from previous notebook\n",
    "train = pd.read_csv('../data/train_2.csv')\n",
    "test = pd.read_csv('../data/test_2.csv')"
   ]
  },
  {
   "cell_type": "code",
   "execution_count": 3,
   "metadata": {},
   "outputs": [
    {
     "name": "stdout",
     "output_type": "stream",
     "text": [
      "900000 900000\n"
     ]
    }
   ],
   "source": [
    "BATCHES = np.array([0, 5, 10, 15, 20, 25, 30, 35, 40, 45, 50, 51, 52, 53, 54, 55, 56, 57, 58, 59, 60, 65, 70])\n",
    "CATEGORIES = np.array([1, 1, 2, 3, 5, 4, 2, 3, 4, 5, 6, 3, 4, 6, 2, 5, 4, 5, 6, 3, 6, 6])\n",
    "CATEGORY = 3\n",
    "\n",
    "signal = np.concatenate((train['signal'].values, test['signal'].values))\n",
    "\n",
    "ix = np.where(CATEGORIES == CATEGORY)[0]\n",
    "starts = BATCHES[ix]\n",
    "ends = BATCHES[ix + 1]\n",
    "\n",
    "X = []\n",
    "y = []\n",
    "for start, end in zip(starts, ends):\n",
    "    subsignal = signal[start*100_000:end*100_000]\n",
    "    if start < 50:\n",
    "        subchannels = train['open_channels'].values[start*100_000:end*100_000]\n",
    "    else:\n",
    "        subchannels = [-1]*((end-start)*100_000)\n",
    "        \n",
    "    if start == 35:\n",
    "        subsignal = list(subsignal[:100000]) + list(subsignal[-100000:])\n",
    "        subchannels = list(subchannels[:100000]) + list(subchannels[-100000:])\n",
    "    \n",
    "    X.extend(subsignal)\n",
    "    y.extend(subchannels)\n",
    "    \n",
    "X = np.array(X)\n",
    "y = np.array(y)\n",
    "print(len(X), len(y))"
   ]
  },
  {
   "cell_type": "code",
   "execution_count": 4,
   "metadata": {},
   "outputs": [
    {
     "data": {
      "image/png": "[encoded data removed]",
      "text/plain": [
       "<matplotlib.figure.Figure at 0x7f8e0f1b7828>"
      ]
     },
     "metadata": {},
     "output_type": "display_data"
    },
    {
     "name": "stderr",
     "output_type": "stream",
     "text": [
      "         1     -553328.4852             +nan\n",
      "         2     -553083.9599        +244.5253\n",
      "         3     -553070.7632         +13.1966\n",
      "         4     -553069.2386          +1.5246\n",
      "         5     -553069.0194          +0.2192\n",
      "         6     -553068.9844          +0.0350\n",
      "         7     -553068.9784          +0.0060\n"
     ]
    }
   ],
   "source": [
    "def markov_p_trans(states):\n",
    "    # https://www.kaggle.com/friedchips/the-viterbi-algorithm-a-complete-solution\n",
    "    max_state = np.max(states)\n",
    "    states_next = np.roll(states, -1)\n",
    "    matrix = []\n",
    "    for i in range(max_state + 1):\n",
    "        current_row = np.histogram(states_next[states == i], bins=np.arange(max_state + 2))[0]\n",
    "        if np.sum(current_row) == 0: # if a state doesn't appear in states...\n",
    "            current_row = np.ones(max_state + 1) / (max_state + 1) # ...use uniform probability\n",
    "        else:\n",
    "            current_row = current_row / np.sum(current_row) # normalize to 1\n",
    "        matrix.append(current_row)\n",
    "    return np.array(matrix)\n",
    "\n",
    "f, ax = plt.subplots(1, 2, figsize=(20, 5))\n",
    "\n",
    "# Estimate the transition matrix based on the ground truth\n",
    "Ptran = markov_p_trans(y[y >= 0])\n",
    "sns.heatmap(\n",
    "    Ptran,\n",
    "    annot=True, fmt='.3f', cmap='Blues', cbar=False,\n",
    "    ax=ax[1], vmin=0, vmax=0.5, linewidths=2);\n",
    "\n",
    "\n",
    "# Estimate means and covs per unique ground truth value\n",
    "means = []\n",
    "covs = []\n",
    "for c in sorted(np.unique(y[y >= 0])):\n",
    "    pd.Series(X[y == c]).plot(kind='hist', ax=ax[0], alpha=0.5)\n",
    "    means.append(np.mean(X[y == c]))\n",
    "    covs.append(np.cov(X[y == c]))\n",
    "    \n",
    "plt.show()\n",
    "    \n",
    "# Defining our HMM\n",
    "n_classes = len(np.unique(y[y >= 0]))\n",
    "hmm = GaussianHMM(\n",
    "    n_components=n_classes,             # Number of hidden states\n",
    "    n_iter=50,                          # Total number of iterations\n",
    "    verbose=True,                       # Show logs\n",
    "    algorithm='map',                    # Use maximum a posteriori instead of Viterbi\n",
    "    params='stmc',                      # Optimize start probs, transmat, means, covs\n",
    "    random_state=42,\n",
    "    init_params='s',                    # Manually initialize all but start probabilities\n",
    "    covariance_type='full',             # Separate covariance per hidden state\n",
    "    tol=0.01                            # Convergence criterion\n",
    ")\n",
    "\n",
    "# Initialize the parameters of our HMM\n",
    "hmm.n_features = 1\n",
    "hmm.means_ = np.array(means).reshape(-1 ,1)\n",
    "hmm.covars_ = np.array(covs).reshape(-1, 1, 1)\n",
    "hmm.transmat_ = Ptran\n",
    "\n",
    "# Fit our HMM\n",
    "_ = hmm.fit(X.reshape(-1, 1), lengths=[100000]*(len(X) // 100000))"
   ]
  },
  {
   "cell_type": "code",
   "execution_count": 5,
   "metadata": {},
   "outputs": [
    {
     "name": "stdout",
     "output_type": "stream",
     "text": [
      "0.9738199736256037\n",
      "0.9840563515575094\n"
     ]
    }
   ],
   "source": [
    "# Make predictions\n",
    "preds = hmm.predict(X.reshape(-1, 1), lengths=[100000]*(len(X) // 100000))\n",
    "\n",
    "# Our rounding baseline\n",
    "print(f1_score(y[y >= 0], np.clip(np.round(X[y >= 0]).astype(int), 0, np.max(y)), average='macro'))\n",
    "\n",
    "# Our naive HMM\n",
    "print(f1_score(y[y >= 0], preds[y >= 0], average='macro'))"
   ]
  },
  {
   "cell_type": "code",
   "execution_count": null,
   "metadata": {},
   "outputs": [],
   "source": []
  }
 ],
 "metadata": {
  "kernelspec": {
   "display_name": "Python 3",
   "language": "python",
   "name": "python3"
  },
  "language_info": {
   "codemirror_mode": {
    "name": "ipython",
    "version": 3
   },
   "file_extension": ".py",
   "mimetype": "text/x-python",
   "name": "python",
   "nbconvert_exporter": "python",
   "pygments_lexer": "ipython3",
   "version": "3.6.9"
  }
 },
 "nbformat": 4,
 "nbformat_minor": 2
}
