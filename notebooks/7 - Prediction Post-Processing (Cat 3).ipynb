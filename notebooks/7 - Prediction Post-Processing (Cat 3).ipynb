{
 "cells": [
  {
   "cell_type": "code",
   "execution_count": 1,
   "metadata": {},
   "outputs": [],
   "source": [
    "import numpy as np\n",
    "import pandas as pd\n",
    "from sklearn.metrics import f1_score"
   ]
  },
  {
   "cell_type": "code",
   "execution_count": 2,
   "metadata": {},
   "outputs": [],
   "source": [
    "# Use the result from previous notebook\n",
    "train = pd.read_csv('../data/train_2.csv')\n",
    "test = pd.read_csv('../data/test_2.csv')\n",
    "preds = np.load('../data/cat3_preds.npy')"
   ]
  },
  {
   "cell_type": "code",
   "execution_count": 3,
   "metadata": {},
   "outputs": [
    {
     "name": "stdout",
     "output_type": "stream",
     "text": [
      "900000 900000\n"
     ]
    }
   ],
   "source": [
    "BATCHES = np.array([0, 5, 10, 15, 20, 25, 30, 35, 40, 45, 50, 51, 52, 53, 54, 55, 56, 57, 58, 59, 60, 65, 70])\n",
    "CATEGORIES = np.array([1, 1, 2, 3, 5, 4, 2, 3, 4, 5, 6, 3, 4, 6, 2, 5, 4, 5, 6, 3, 6, 6])\n",
    "CATEGORY = 3\n",
    "\n",
    "signal = np.concatenate((train['signal'].values, test['signal'].values))\n",
    "\n",
    "ix = np.where(CATEGORIES == CATEGORY)[0]\n",
    "starts = BATCHES[ix]\n",
    "ends = BATCHES[ix + 1]\n",
    "\n",
    "X = []\n",
    "y = []\n",
    "for start, end in zip(starts, ends):\n",
    "    subsignal = signal[start*100_000:end*100_000]\n",
    "    if start < 50:\n",
    "        subchannels = train['open_channels'].values[start*100_000:end*100_000]\n",
    "    else:\n",
    "        subchannels = [-1]*((end-start)*100_000)\n",
    "        \n",
    "    if start == 35:\n",
    "        subsignal = list(subsignal[:100000]) + list(subsignal[-100000:])\n",
    "        subchannels = list(subchannels[:100000]) + list(subchannels[-100000:])\n",
    "    \n",
    "    X.extend(subsignal)\n",
    "    y.extend(subchannels)\n",
    "    \n",
    "X = np.array(X)\n",
    "y = np.array(y)\n",
    "print(len(X), len(y))"
   ]
  },
  {
   "cell_type": "code",
   "execution_count": 4,
   "metadata": {},
   "outputs": [],
   "source": [
    "def optimize_thres_unsupervised(pred):\n",
    "    \"\"\"\n",
    "    Unsupervised threshold optimization. We first take the \"clean\" data by filtering\n",
    "    data points, per batch of 100K that are very close to their rounded value, \n",
    "    i.e. x - round(x) < thresh. We then calculate the the percentage that each open \n",
    "    channel value occurs int hese clean signal values. Afterwards, we determine the\n",
    "    thresholds to extrapolate these percentages to the 100K batch again.\n",
    "    \"\"\"\n",
    "    sig = X\n",
    "    \n",
    "    sY = 0.26\n",
    "    L = 100_000\n",
    "    Y = pred.copy()\n",
    "    Thres = {}\n",
    "    Yopt = pred.copy()\n",
    "    for k in range(len(pred) // L):\n",
    "        Thres[k] = np.zeros(12)\n",
    "        Thres[k][0] = -99\n",
    "        Thres[k][-1] = 99\n",
    "        Yloc = Y[k*L:(k+1)*L]\n",
    "        floc = sig[k*L:(k+1)*L]\n",
    "        floc2 = floc[np.abs(floc-np.round(floc)) - sY < 0]\n",
    "        \n",
    "        for i in range(10):\n",
    "            ni = len(floc2[np.round(floc2)<=i])\n",
    "            ni2 = np.round(ni*len(floc)/ max(1, len(floc2))).astype(int)\n",
    "            Ys = np.concatenate([np.sort(floc), [19]])\n",
    "            Thres[k][i+1] = 0.5*(Ys[max(0,ni2)]+Ys[min(len(Ys)-1,ni2)])\n",
    "\n",
    "        for i in range(11):\n",
    "            Yloc[(Yloc>=Thres[k][i])&(Yloc<Thres[k][i+1])] = i\n",
    "            \n",
    "        print(Thres[k][:5])\n",
    "        Yopt[k*L:(k+1)*L] = Yloc\n",
    "    \n",
    "    return Yopt"
   ]
  },
  {
   "cell_type": "code",
   "execution_count": 5,
   "metadata": {},
   "outputs": [
    {
     "name": "stdout",
     "output_type": "stream",
     "text": [
      "[-99.           0.41302985   1.48158938   2.51492738   3.72526563]\n",
      "[-99.           0.41097594   1.45913473   2.50627229   3.73387474]\n",
      "[-99.           0.44383453   1.4555706    2.51116669   3.71789684]\n",
      "[-99.           0.44615578   1.46626967   2.50449531   3.72105359]\n",
      "[-99.           0.40283286   1.45451166   2.51360322   3.71912623]\n",
      "[-99.           0.41234146   1.45968372   2.50484058   3.71966778]\n",
      "[-99.           0.42733735   1.4651892    2.51040336   3.73400133]\n",
      "[-99.           0.4115519    1.466672     2.49394677   3.7259163 ]\n",
      "[-99.           0.41387161   1.4600116    2.49813522   3.72481574]\n"
     ]
    }
   ],
   "source": [
    "Yopt = optimize_thres_unsupervised(preds)"
   ]
  },
  {
   "cell_type": "code",
   "execution_count": 6,
   "metadata": {},
   "outputs": [
    {
     "name": "stdout",
     "output_type": "stream",
     "text": [
      "0.9869704508621362\n"
     ]
    }
   ],
   "source": [
    "print(f1_score(y[y >= 0], Yopt[y>=0].astype(int), average='macro'))"
   ]
  },
  {
   "cell_type": "code",
   "execution_count": null,
   "metadata": {},
   "outputs": [],
   "source": []
  }
 ],
 "metadata": {
  "kernelspec": {
   "display_name": "Python 3",
   "language": "python",
   "name": "python3"
  },
  "language_info": {
   "codemirror_mode": {
    "name": "ipython",
    "version": 3
   },
   "file_extension": ".py",
   "mimetype": "text/x-python",
   "name": "python",
   "nbconvert_exporter": "python",
   "pygments_lexer": "ipython3",
   "version": "3.6.9"
  }
 },
 "nbformat": 4,
 "nbformat_minor": 2
}
